{
 "cells": [
  {
   "cell_type": "markdown",
   "id": "653a2765-2346-48e7-858d-356a5b7363ef",
   "metadata": {},
   "source": [
    "# Grouping of elements of same indices"
   ]
  },
  {
   "cell_type": "markdown",
   "id": "b053228d-119b-46d6-b2be-a25b86edec11",
   "metadata": {},
   "source": [
    "## You will originally have two or more lists inside of a list like [[a, b], [c, d]] to group elements of the same index. You must make two new lists and store the items from both lists at indexes 0 [a, c] and 1 [b, d] in order to group the components of these lists. Grouping the components of the same index has this purpose."
   ]
  },
  {
   "cell_type": "code",
   "execution_count": 7,
   "id": "598ff589-0d69-42af-ba4d-9b5c2b352915",
   "metadata": {},
   "outputs": [
    {
     "name": "stdout",
     "output_type": "stream",
     "text": [
      "[[10, 40, 70], [20, 50, 80], [30, 60, 90]]\n"
     ]
    }
   ],
   "source": [
    "def groupElements(inputLists):\n",
    "    \"\"\"Groups the elements of same indices\n",
    "    Args:\n",
    "        inputLists: contains list of lists\n",
    "    Returns:\n",
    "        A list where the elements of same indices are grouped\n",
    "    \"\"\"\n",
    "    groupedLists = []\n",
    "    for i in range(len(inputLists[0])):\n",
    "        groupedLists.append([])\n",
    "        for j in range(len(inputLists)):\n",
    "           groupedLists[i].append(inputLists[j][i])\n",
    "    return groupedLists\n",
    "\n",
    "groupedLists = groupElements([[10, 20, 30], [40, 50, 60], [70, 80, 90]])\n",
    "print(groupedLists)"
   ]
  },
  {
   "cell_type": "code",
   "execution_count": null,
   "id": "3d8680f0-da5a-44e2-aa56-e21fa0951621",
   "metadata": {},
   "outputs": [],
   "source": []
  }
 ],
 "metadata": {
  "kernelspec": {
   "display_name": "Python 3 (ipykernel)",
   "language": "python",
   "name": "python3"
  },
  "language_info": {
   "codemirror_mode": {
    "name": "ipython",
    "version": 3
   },
   "file_extension": ".py",
   "mimetype": "text/x-python",
   "name": "python",
   "nbconvert_exporter": "python",
   "pygments_lexer": "ipython3",
   "version": "3.11.4"
  }
 },
 "nbformat": 4,
 "nbformat_minor": 5
}
