{
 "cells": [
  {
   "cell_type": "markdown",
   "id": "ec4a0ba7-5e39-4841-9a4b-c6ba28c4052c",
   "metadata": {},
   "source": [
    "# Getting LCM of two numbers"
   ]
  },
  {
   "cell_type": "code",
   "execution_count": 6,
   "id": "dfa3c186-5a95-4b44-8092-3b747a15ce08",
   "metadata": {},
   "outputs": [
    {
     "data": {
      "text/plain": [
       "60"
      ]
     },
     "execution_count": 6,
     "metadata": {},
     "output_type": "execute_result"
    }
   ],
   "source": [
    "# Getting LCM\n",
    "def getLCM(num1, num2):\n",
    "    \"\"\"Calculates the least common multiple of two numbers.\n",
    "  Args:\n",
    "    num1: The first number.\n",
    "    num2: The second number.\n",
    "  Returns:\n",
    "    The least common multiple of num1 and num2.\n",
    "  \"\"\"\n",
    "    if num1 > num2:\n",
    "        greater = num1\n",
    "    elif num2  > num1:\n",
    "        greater = num2\n",
    "    while(True):\n",
    "        if((greater % num1 == 0) and (greater % num2 == 0)):\n",
    "            lcm = greater\n",
    "            break\n",
    "        greater = greater + 1\n",
    "    return lcm\n",
    "\n",
    "getLCM(10, 12)"
   ]
  },
  {
   "cell_type": "code",
   "execution_count": 7,
   "id": "248c3aec-0b75-498e-8f9b-0611126f30ed",
   "metadata": {},
   "outputs": [
    {
     "data": {
      "text/plain": [
       "60"
      ]
     },
     "execution_count": 7,
     "metadata": {},
     "output_type": "execute_result"
    }
   ],
   "source": [
    "# Modifying current LCM function\n",
    "def getLCM2(num1, num2):\n",
    "    \"\"\"Calculates the least common multiple of two numbers.\n",
    "  Args:\n",
    "    num1: The first number.\n",
    "    num2: The second number.\n",
    "\n",
    "  Returns:\n",
    "    The least common multiple of num1 and num2.\n",
    "  \"\"\"\n",
    "    # Find greatest common divider of num1 and num2\n",
    "    gcd = 1\n",
    "    for i in range(1, min(num1, num2) + 1):\n",
    "        if num1 % i == 0 and num % i == 0:\n",
    "            gcd = 1\n",
    "    # The least common multiple is the product of num1 and num2 divided by their greatest common divider\n",
    "    return num1 * num2 // gcd\n",
    "getLCM(10, 12)"
   ]
  },
  {
   "cell_type": "code",
   "execution_count": null,
   "id": "6112791e-fcf2-4f85-8e92-ddf574e312c1",
   "metadata": {},
   "outputs": [],
   "source": []
  }
 ],
 "metadata": {
  "kernelspec": {
   "display_name": "Python 3 (ipykernel)",
   "language": "python",
   "name": "python3"
  },
  "language_info": {
   "codemirror_mode": {
    "name": "ipython",
    "version": 3
   },
   "file_extension": ".py",
   "mimetype": "text/x-python",
   "name": "python",
   "nbconvert_exporter": "python",
   "pygments_lexer": "ipython3",
   "version": "3.11.4"
  }
 },
 "nbformat": 4,
 "nbformat_minor": 5
}
