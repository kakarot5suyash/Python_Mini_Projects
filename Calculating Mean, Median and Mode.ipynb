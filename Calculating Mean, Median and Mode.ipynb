{
 "cells": [
  {
   "cell_type": "markdown",
   "id": "d1dcd254-43c8-4479-961d-661184bbba68",
   "metadata": {},
   "source": [
    "# Mean"
   ]
  },
  {
   "cell_type": "code",
   "execution_count": 27,
   "id": "2ff39e17-cca4-469c-995b-c39f49485586",
   "metadata": {},
   "outputs": [
    {
     "name": "stdout",
     "output_type": "stream",
     "text": [
      "47.1\n"
     ]
    }
   ],
   "source": [
    "# Mean of data\n",
    "list1 = [34, 56, 78, 32, 10, 13, 76, 34, 90, 48]\n",
    "mean = sum(list1) / len(list1)\n",
    "print(mean)"
   ]
  },
  {
   "cell_type": "code",
   "execution_count": 31,
   "id": "7f693e5e-064e-4483-94b7-9dda9c03f489",
   "metadata": {},
   "outputs": [
    {
     "data": {
      "text/plain": [
       "47.1"
      ]
     },
     "execution_count": 31,
     "metadata": {},
     "output_type": "execute_result"
    }
   ],
   "source": [
    "# Modification of mean using functions\n",
    "def getmean(datalist):\n",
    "    \"\"\"Calculates the mean of a list of numbers.\n",
    "    Args: \n",
    "        datalist: A list of numbers.\n",
    "    Returns: \n",
    "        The mean of the list of numbers.\n",
    "    \"\"\"\n",
    "    return sum(datalist) / len(datalist)\n",
    "getmean(list1)"
   ]
  },
  {
   "cell_type": "markdown",
   "id": "326415cc-9f43-4116-86c1-8a7689b4ac2e",
   "metadata": {},
   "source": [
    "# Median"
   ]
  },
  {
   "cell_type": "code",
   "execution_count": 29,
   "id": "8b8d7cbf-22f8-416c-b07a-29b218b2d158",
   "metadata": {
    "scrolled": true
   },
   "outputs": [
    {
     "name": "stdout",
     "output_type": "stream",
     "text": [
      "sorted list\n",
      "[10, 13, 32, 34, 34, 48, 56, 76, 78, 90]\n",
      "41.0\n"
     ]
    }
   ],
   "source": [
    "# Median of data\n",
    "# Need to sort the list first\n",
    "#list1 = [12, 16, 20, 20, 12, 30, 25, 23, 24, 20]\n",
    "list1.sort()\n",
    "print(\"sorted list\")\n",
    "print(list1)\n",
    "if len(list1) % 2 == 0:\n",
    "    m1 = list1[len(list1) // 2]\n",
    "    m2 = list1[len(list1) // 2 - 1]\n",
    "    median = (m1 + m2) / 2\n",
    "else:\n",
    "    median = list1[len(list1) // 2]\n",
    "print(median)"
   ]
  },
  {
   "cell_type": "code",
   "execution_count": 32,
   "id": "ab2bc371-57cd-4428-b71c-9bb463c2c4ec",
   "metadata": {},
   "outputs": [
    {
     "data": {
      "text/plain": [
       "20.0"
      ]
     },
     "execution_count": 32,
     "metadata": {},
     "output_type": "execute_result"
    }
   ],
   "source": [
    "# Modification of median using functions\n",
    "def getmedian(datalist):\n",
    "    \"\"\"Calculates the median of a list of numbers.\n",
    "    Args: \n",
    "        datalist: A list of numbers.\n",
    "    Returns: \n",
    "        The median of the list of numbers.\n",
    "    \"\"\"\n",
    "    datalist.sort()\n",
    "    if len(datalist) % 2 == 0:\n",
    "        m1 = datalist[len(datalist) // 2]\n",
    "        m2 = datalist[len(datalist) // 2 - 1]\n",
    "        return (m1 + m2) / 2\n",
    "    else:\n",
    "        return datalist[len(datalist) // 2]\n",
    "\n",
    "getmedian([12, 16, 20, 20, 12, 30, 25, 23, 24, 20])\n",
    "    "
   ]
  },
  {
   "cell_type": "markdown",
   "id": "0742df26-7a0d-4787-bc1a-dacac4e87d7f",
   "metadata": {},
   "source": [
    "\n",
    "\n",
    "# Mode"
   ]
  },
  {
   "cell_type": "code",
   "execution_count": 33,
   "id": "f120555e-9803-44eb-95e1-26177797e30d",
   "metadata": {},
   "outputs": [
    {
     "name": "stdout",
     "output_type": "stream",
     "text": [
      "{10: 1, 13: 1, 32: 1, 34: 2, 48: 1, 56: 1, 76: 1, 78: 1, 90: 1}\n",
      "34\n"
     ]
    }
   ],
   "source": [
    "#creating a dictionary for frequency\n",
    "frequency = {}\n",
    "for i in list1:\n",
    "    frequency.setdefault(i, 0)\n",
    "    frequency[i] = frequency[i] + 1\n",
    "\n",
    "frequent = max(frequency.values())\n",
    "print(frequency)\n",
    "for i, j in frequency.items():\n",
    "    if j == frequent:\n",
    "        mode = i\n",
    "print(mode)"
   ]
  },
  {
   "cell_type": "code",
   "execution_count": null,
   "id": "36312e13-32c6-4efc-bd76-d8c89c81f6e6",
   "metadata": {},
   "outputs": [],
   "source": []
  },
  {
   "cell_type": "code",
   "execution_count": 35,
   "id": "4a866fac-444b-4c2f-ada6-499324eecb62",
   "metadata": {},
   "outputs": [
    {
     "data": {
      "text/plain": [
       "34"
      ]
     },
     "execution_count": 35,
     "metadata": {},
     "output_type": "execute_result"
    }
   ],
   "source": [
    "# Modification of mode using function\n",
    "def getmode(datalist):\n",
    "    \"\"\"Calculates the mode of a list of numbers.\n",
    "    Args: \n",
    "        datalist: A list of numbers.\n",
    "    Returns: \n",
    "        The mode of the list of numbers.\n",
    "    \"\"\"\n",
    "    # creating a dictionary for frequency\n",
    "    frequency = {}\n",
    "    for i in datalist:\n",
    "        frequency.setdefault(i, 0)\n",
    "        frequency[i] += 1\n",
    "    frequent = max(frequency.values())\n",
    "    for i, j in frequency.items():\n",
    "        if j == frequent:\n",
    "            return i\n",
    "\n",
    "getmode(list1)\n",
    "     "
   ]
  },
  {
   "cell_type": "code",
   "execution_count": null,
   "id": "533b2ba5-c488-4062-a763-7c9bd1885288",
   "metadata": {},
   "outputs": [],
   "source": []
  }
 ],
 "metadata": {
  "kernelspec": {
   "display_name": "Python 3 (ipykernel)",
   "language": "python",
   "name": "python3"
  },
  "language_info": {
   "codemirror_mode": {
    "name": "ipython",
    "version": 3
   },
   "file_extension": ".py",
   "mimetype": "text/x-python",
   "name": "python",
   "nbconvert_exporter": "python",
   "pygments_lexer": "ipython3",
   "version": "3.11.4"
  }
 },
 "nbformat": 4,
 "nbformat_minor": 5
}
