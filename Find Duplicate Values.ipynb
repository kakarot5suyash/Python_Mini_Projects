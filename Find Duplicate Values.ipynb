{
 "cells": [
  {
   "cell_type": "markdown",
   "id": "b340993b-8944-421e-bd97-388c01cb6d1c",
   "metadata": {},
   "source": [
    "# Finding Duplicate Values"
   ]
  },
  {
   "cell_type": "code",
   "execution_count": 2,
   "id": "5adde9dd-d0ab-4298-abd3-eede94fb58ef",
   "metadata": {},
   "outputs": [
    {
     "data": {
      "text/plain": [
       "['Kakarot', 'Whis']"
      ]
     },
     "execution_count": 2,
     "metadata": {},
     "output_type": "execute_result"
    }
   ],
   "source": [
    "# Finding Duplicate Values in Python\n",
    "def findDuplicates(valueList):\n",
    "    \"\"\"Finds Duplicate Values in a given list\n",
    "    Args:\n",
    "        valueList: List containing values\n",
    "    Returns:\n",
    "    Duplicate Values\n",
    "    \"\"\"\n",
    "    duplicates = []\n",
    "    for i in range(len(valueList)):\n",
    "        n = i + 1\n",
    "        for a in range(n, len(valueList)):\n",
    "            if valueList[i] == valueList[a] and valueList[i] not in duplicates:\n",
    "               duplicates.append(valueList[i])\n",
    "    return duplicates\n",
    "\n",
    "\n",
    "warriors = ['Kakarot', 'Whis', 'Vegeta', 'Beerus' , 'Kakarot', 'Whis', 'Champa', 'Vados']\n",
    "findDuplicates(warriors)"
   ]
  },
  {
   "cell_type": "code",
   "execution_count": 3,
   "id": "ba49f0db-d424-4dad-8806-78f11786cc50",
   "metadata": {},
   "outputs": [
    {
     "data": {
      "text/plain": [
       "['Kakarot', 'Whis']"
      ]
     },
     "execution_count": 3,
     "metadata": {},
     "output_type": "execute_result"
    }
   ],
   "source": [
    "# Modifying the function to be more efficient\n",
    "def getDuplicates(valueList):\n",
    "    duplicates = []\n",
    "    for value in valueList:\n",
    "        if valueList.count(value) > 1 and value not in duplicates:\n",
    "            duplicates.append(value)\n",
    "    return duplicates\n",
    "\n",
    "warriors = ['Kakarot', 'Whis', 'Vegeta', 'Beerus' , 'Kakarot', 'Whis', 'Champa', 'Vados']\n",
    "findDuplicates(warriors)\n",
    "\n"
   ]
  },
  {
   "cell_type": "code",
   "execution_count": null,
   "id": "b7f0f269-90fd-4fbf-bbbb-56e3b71fd70b",
   "metadata": {},
   "outputs": [],
   "source": []
  }
 ],
 "metadata": {
  "kernelspec": {
   "display_name": "Python 3 (ipykernel)",
   "language": "python",
   "name": "python3"
  },
  "language_info": {
   "codemirror_mode": {
    "name": "ipython",
    "version": 3
   },
   "file_extension": ".py",
   "mimetype": "text/x-python",
   "name": "python",
   "nbconvert_exporter": "python",
   "pygments_lexer": "ipython3",
   "version": "3.11.4"
  }
 },
 "nbformat": 4,
 "nbformat_minor": 5
}
