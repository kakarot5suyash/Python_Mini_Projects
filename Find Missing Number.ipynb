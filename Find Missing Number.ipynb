{
 "cells": [
  {
   "cell_type": "markdown",
   "id": "acc2a3af",
   "metadata": {},
   "source": [
    "# Finding Missing Number"
   ]
  },
  {
   "cell_type": "code",
   "execution_count": 1,
   "id": "d15f8ae5",
   "metadata": {},
   "outputs": [
    {
     "data": {
      "text/plain": [
       "[4, 12, 15]"
      ]
     },
     "execution_count": 1,
     "metadata": {},
     "output_type": "execute_result"
    }
   ],
   "source": [
    "# Function to find the missing numbers\n",
    "def findMissingNumbers(n):\n",
    "  \"\"\"Finds the missing numbers\n",
    "  Args:\n",
    "    n: list of numbers\n",
    "  Returns:\n",
    "    A list of missing numbers\n",
    "  \"\"\"\n",
    "  numbers = set(n)\n",
    "  length = len(n)\n",
    "  output = []\n",
    "  for i in range(1, n[-1]):\n",
    "    if i not in numbers:\n",
    "      if i not in numbers:\n",
    "        output.append(i)\n",
    "  return output\n",
    "\n",
    "listOfNumbers = [1, 2, 3, 5, 6, 7, 8, 9, 10, 11, 13, 14, 16]\n",
    "findMissingNumbers(listOfNumbers)"
   ]
  },
  {
   "cell_type": "code",
   "execution_count": null,
   "id": "e9ed8ab0",
   "metadata": {},
   "outputs": [],
   "source": []
  }
 ],
 "metadata": {
  "kernelspec": {
   "display_name": "Python 3 (ipykernel)",
   "language": "python",
   "name": "python3"
  },
  "language_info": {
   "codemirror_mode": {
    "name": "ipython",
    "version": 3
   },
   "file_extension": ".py",
   "mimetype": "text/x-python",
   "name": "python",
   "nbconvert_exporter": "python",
   "pygments_lexer": "ipython3",
   "version": "3.11.0"
  }
 },
 "nbformat": 4,
 "nbformat_minor": 5
}
