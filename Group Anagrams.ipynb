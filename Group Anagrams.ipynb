{
 "cells": [
  {
   "cell_type": "markdown",
   "id": "3966ff15",
   "metadata": {},
   "source": [
    "# Group Anagrams"
   ]
  },
  {
   "cell_type": "markdown",
   "id": "3576ebbd",
   "metadata": {},
   "source": [
    "## Anagram grouping is one of the often asked questions in coding interviews. You will be given a list of words in this task, and you must create an algorithm to group all the anagrammatic words into one group."
   ]
  },
  {
   "cell_type": "code",
   "execution_count": 2,
   "id": "d98a271b",
   "metadata": {},
   "outputs": [
    {
     "name": "stdout",
     "output_type": "stream",
     "text": [
      "dict_values([['tea', 'eat', 'ate'], ['bat'], ['arc', 'car']])\n"
     ]
    }
   ],
   "source": [
    "from collections import defaultdict\n",
    "def group_anagrams(wordlist):\n",
    "    \"\"\"Grouping all the anagrams in a group\n",
    "    Args:\n",
    "        wordlist: a list containing words\n",
    "\n",
    "    Returns:\n",
    "        A list of words containing anagrams\n",
    "    \"\"\"\n",
    "    default_dict = defaultdict(list)\n",
    "    for word in wordlist:\n",
    "        sorted_word = \" \".join(sorted(word))\n",
    "        default_dict[sorted_word].append(word)\n",
    "    return default_dict.values()\n",
    "\n",
    "wordlist = [\"tea\", \"eat\", \"bat\", \"ate\", \"arc\", \"car\"]\n",
    "print(group_anagrams(wordlist))"
   ]
  },
  {
   "cell_type": "code",
   "execution_count": null,
   "id": "8ce2e20a",
   "metadata": {},
   "outputs": [],
   "source": []
  }
 ],
 "metadata": {
  "kernelspec": {
   "display_name": "Python 3 (ipykernel)",
   "language": "python",
   "name": "python3"
  },
  "language_info": {
   "codemirror_mode": {
    "name": "ipython",
    "version": 3
   },
   "file_extension": ".py",
   "mimetype": "text/x-python",
   "name": "python",
   "nbconvert_exporter": "python",
   "pygments_lexer": "ipython3",
   "version": "3.11.0"
  }
 },
 "nbformat": 4,
 "nbformat_minor": 5
}
