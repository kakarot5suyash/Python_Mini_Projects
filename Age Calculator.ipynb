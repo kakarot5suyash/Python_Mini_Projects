{
 "cells": [
  {
   "cell_type": "markdown",
   "id": "a0cf908c-4fc0-4521-ac67-834a80e931ee",
   "metadata": {},
   "source": [
    "# Age Calulcator"
   ]
  },
  {
   "cell_type": "code",
   "execution_count": 13,
   "id": "c9261442-4903-44c7-bf7a-ce977f5f4feb",
   "metadata": {},
   "outputs": [
    {
     "data": {
      "text/plain": [
       "'28 years, 1 months, 12 days'"
      ]
     },
     "execution_count": 13,
     "metadata": {},
     "output_type": "execute_result"
    }
   ],
   "source": [
    "# Age Calculator to return age in years, months and days\n",
    "def calculateAgeNew(year, month, day):\n",
    "    \"\"\"Calculates the age of a person in years, months, and days.\n",
    "    Args:\n",
    "        year: The year the person was born.\n",
    "        month: The month the person was born.\n",
    "        day: The day the person was born.\n",
    "\n",
    "    Returns:\n",
    "        A tuple of three integers representing the person's age in years, months, and days.\n",
    "    \"\"\"\n",
    "    # importing datetime\n",
    "    import datetime\n",
    "    # Validate month and days\n",
    "    if month < 1 and month > 12:\n",
    "        raise ValueError('Month must be between 1 and 12')\n",
    "    if day < 1 and day > 31:\n",
    "        raise ValueError('day must be between 1 and 31')\n",
    "\n",
    "    # Checking if the date is a valid leap year.\n",
    "    is_leap_year = (year % 4 == 0 and (year % 100 != 0 or year % 400 == 0))\n",
    "\n",
    "    # If the date is in February Month is not a leap year and day is greater than 28 \n",
    "    # then raise a value error\n",
    "    if month == 2 and not is_leap_year and day > 28:\n",
    "        raise ValueError(\"days in February must be between 1 and 28 for February in non-leap year\")\n",
    "    # Calculating persons's age in days\n",
    "    today = datetime.datetime.now().date()\n",
    "    date_of_birth = datetime.date(year, month, day)\n",
    "    age_in_days = (today - date_of_birth).days\n",
    "\n",
    "    # Calculating person's are in years, months, days\n",
    "    years = int(age_in_days / 365.25)\n",
    "    months = int((age_in_days % 365.25) / 30.44)\n",
    "    days = int((age_in_days % 365.25) % 30.44)\n",
    "    return f\"{years} years, {months} months, {days} days\"\n",
    "\n",
    "\n",
    "\n",
    "calculateAgeNew(1995, 8, 5)\n",
    "    "
   ]
  },
  {
   "cell_type": "code",
   "execution_count": null,
   "id": "e937b7b4-771b-4122-9f62-4a01e778e1ad",
   "metadata": {},
   "outputs": [],
   "source": []
  }
 ],
 "metadata": {
  "kernelspec": {
   "display_name": "Python 3 (ipykernel)",
   "language": "python",
   "name": "python3"
  },
  "language_info": {
   "codemirror_mode": {
    "name": "ipython",
    "version": 3
   },
   "file_extension": ".py",
   "mimetype": "text/x-python",
   "name": "python",
   "nbconvert_exporter": "python",
   "pygments_lexer": "ipython3",
   "version": "3.11.4"
  }
 },
 "nbformat": 4,
 "nbformat_minor": 5
}
